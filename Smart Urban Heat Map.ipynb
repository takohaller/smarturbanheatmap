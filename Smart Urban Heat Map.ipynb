{
 "cells": [
  {
   "cell_type": "markdown",
   "id": "681dd6b1",
   "metadata": {},
   "source": [
    "# Fincon Rowing Session on Smart City and IoT\n",
    "Dieses Beispiel zeigt, wie mit einfachem Code in Python Daten von Wetterstationen in der Region Bern ausgelesen und visualisiert werden können.\n",
    "\n",
    "API Dokumentation: https://meteotest.github.io/urban-heat-API-docs/de/\n",
    "\n",
    "Entwickelt im Rahmen des Projektes __[Smart Urban Heat Map Bern](https://smart-urban-heat-map.ch/)__.\n"
   ]
  },
  {
   "cell_type": "markdown",
   "id": "a9d531d1",
   "metadata": {},
   "source": [
    "## Teil 1 - Laden und Darstellen von aktuellen Daten"
   ]
  },
  {
   "cell_type": "markdown",
   "id": "83534995",
   "metadata": {},
   "source": [
    "### Schritt 1: Importieren der benötigten Python Libraries"
   ]
  },
  {
   "cell_type": "code",
   "execution_count": null,
   "id": "44bf6195",
   "metadata": {},
   "outputs": [],
   "source": [
    "import io # for working with streams (like strings)\n",
    "import requests # for making standard HTTP requests\n",
    "import pandas as pd # for storing and manipulating data\n",
    "import geopandas as gpd # for storing and manipulating geographic data\n",
    "import folium # for creating maps\n",
    "import branca # for using colorscales in Folium\n",
    "import json # for data handling"
   ]
  },
  {
   "cell_type": "markdown",
   "id": "f3b323a2",
   "metadata": {},
   "source": [
    "### Schritt 2: Liste aller Messstationen abfragen"
   ]
  },
  {
   "cell_type": "code",
   "execution_count": null,
   "id": "e7e93bd9",
   "metadata": {},
   "outputs": [],
   "source": [
    "# Define the URL\n",
    "url = \"https://smart-urban-heat-map.ch/api/1.0/stations\"\n",
    "\n",
    "# Make the GET request\n",
    "response = requests.get(url)\n",
    "\n",
    "# Display the result\n",
    "print(response.text)"
   ]
  },
  {
   "cell_type": "markdown",
   "id": "eb6ff72c",
   "metadata": {},
   "source": [
    "Umformatierung für bessere Lesbarkeit:"
   ]
  },
  {
   "cell_type": "code",
   "execution_count": null,
   "id": "69e9079d",
   "metadata": {},
   "outputs": [],
   "source": [
    "print(json.dumps(response.json(), indent=2))"
   ]
  },
  {
   "cell_type": "markdown",
   "id": "18253805",
   "metadata": {},
   "source": [
    "Laden der Daten als GeoPandas Dataframe macht das ganze noch einfacher:"
   ]
  },
  {
   "cell_type": "code",
   "execution_count": null,
   "id": "078640fe",
   "metadata": {},
   "outputs": [],
   "source": [
    "stations = gpd.read_file(response.text)\n",
    "\n",
    "# Display stations DataFrame\n",
    "stations"
   ]
  },
  {
   "cell_type": "markdown",
   "id": "8bed9530",
   "metadata": {},
   "source": [
    "### Schritt 3: Darstellen auf einer Karte\n",
    "\n",
    "Zuerst zeigen wir eine Karte an, die alle Messstationen abdeckt:\n"
   ]
  },
  {
   "cell_type": "code",
   "execution_count": null,
   "id": "4b24b255",
   "metadata": {
    "scrolled": true
   },
   "outputs": [],
   "source": [
    "# Create a base map\n",
    "map1 = folium.Map(location=[stations.geometry.y.mean(), stations.geometry.x.mean()], zoom_start=10)\n",
    "\n",
    "# Display map\n",
    "map1"
   ]
  },
  {
   "cell_type": "markdown",
   "id": "82405224",
   "metadata": {},
   "source": [
    "Jetzt zeichnen wir die Messstationen ein:"
   ]
  },
  {
   "cell_type": "code",
   "execution_count": null,
   "id": "ddcff0e5",
   "metadata": {
    "scrolled": true
   },
   "outputs": [],
   "source": [
    "# Create a base map\n",
    "map2 = folium.Map(location=[stations.geometry.y.mean(), stations.geometry.x.mean()], zoom_start=10)\n",
    "\n",
    "# Iterate through each station in the GeoPandas DataFrame\n",
    "for idx, station in stations.iterrows():\n",
    "    # Create a circle marker for each station and add it to the map\n",
    "    folium.CircleMarker(\n",
    "        # Location of the marker in lat and lon\n",
    "        location=(station.geometry.y, station.geometry.x),\n",
    "        # Styling the marker\n",
    "        radius=5,\n",
    "        color=\"black\",  # Border color\n",
    "        weight=0.5,  # Border width\n",
    "        fill=True,\n",
    "        fill_color=\"black\",\n",
    "        fill_opacity=1, # 1 means 100% opaque\n",
    "        # Add a tooltip with station name\n",
    "        tooltip=f\"{station['name']}\",\n",
    "    # Add the marker to the map\n",
    "    ).add_to(map2)\n",
    "    \n",
    "map2"
   ]
  },
  {
   "cell_type": "markdown",
   "id": "26ee72d8",
   "metadata": {},
   "source": [
    "Und zum Schluss können wir den Messpunkten eine von der aktuellen Temperatur abhängige Farbe geben und auch Tooltips hinzufügen:\n"
   ]
  },
  {
   "cell_type": "code",
   "execution_count": null,
   "id": "c2113eb4",
   "metadata": {},
   "outputs": [],
   "source": [
    "# Create a base map\n",
    "map3 = folium.Map(location=[stations.geometry.y.mean(), stations.geometry.x.mean()], zoom_start=13)#, tiles=\"CartoDB positron\")\n",
    "\n",
    "# Most popular colormaps are sequential, meaning that they have a start and end color\n",
    "# Define a function to reverse a colormap\n",
    "def reversed_colormap(existing):\n",
    "    return branca.colormap.LinearColormap(\n",
    "        colors=list(reversed(existing.colors)),\n",
    "        vmin=existing.vmin, vmax=existing.vmax\n",
    "    )\n",
    "\n",
    "def formatToolTip(stationName, temperature, humidity):\n",
    "    return f\"{stationName}: {temperature:.2f}°C, {humidity:.2f}%\"\n",
    "\n",
    "def formatToolTip2(stationName, temperature, humidity):\n",
    "    return f\"<h4>{stationName}</h4>Temperatur: {temperature:.2f}°C<br/>Luftfeuchtigkeit: {humidity:.2f}%\"\n",
    "\n",
    "\n",
    "# Create a colormap for a temperature range of 10-37°C\n",
    "# Choose an appropriate colormap (Spectral_11) and reverse it so that it goes from blue (cold) to red (hot)\n",
    "colormap = reversed_colormap(branca.colormap.linear.Spectral_11)\n",
    "# Scale the colormap to the temperature range and discretize it into 9 steps for better visibility\n",
    "colormap = colormap.scale(10, 37).to_step(9) \n",
    "# Add a caption to the colormap\n",
    "colormap.caption = \"Temperature (°C)\"\n",
    "# Add colormap to the map\n",
    "colormap.add_to(map3)\n",
    "\n",
    "# Iterate through each station in the GeoPandas DataFrame\n",
    "for idx, station in stations.iterrows():\n",
    "    # Create a circle marker for each station and add it to the map\n",
    "    folium.CircleMarker(\n",
    "        # Location of the marker in lon and lat\n",
    "        location=(station.geometry.y, station.geometry.x),\n",
    "        # Styling the marker\n",
    "        radius=5,\n",
    "        color=\"black\",  # Border color\n",
    "        weight=0.5,  # Border width\n",
    "        fill=True,\n",
    "        # Set the fill color to the colormap value corresponding to the station temperature\n",
    "        fill_color=colormap(station['temperature']),\n",
    "        fill_opacity=1, # 1 means 100% opaque\n",
    "        # Add a tooltip with station name and temperature\n",
    "        tooltip=formatToolTip2(station['name'], station['temperature'], station['relativeHumidity'])\n",
    "    # Add the marker to the map\n",
    "    ).add_to(map3)\n",
    "\n",
    "# Display map\n",
    "map3"
   ]
  },
  {
   "cell_type": "markdown",
   "id": "2d5f3444",
   "metadata": {},
   "source": [
    "## Teil 2 - Zeitlichen Messdatenverlauf darstellen"
   ]
  },
  {
   "cell_type": "markdown",
   "id": "28968797",
   "metadata": {},
   "source": [
    "### Schritt 1: Daten zu einer Messstation laden\n",
    "\n",
    "Z.B. am Bundesplatz:"
   ]
  },
  {
   "cell_type": "code",
   "execution_count": null,
   "id": "e5e13729",
   "metadata": {
    "scrolled": true
   },
   "outputs": [],
   "source": [
    "# Based on a station name, get the respective stationId from the DataFrame\n",
    "stationId = stations[stations[\"name\"] == \"Bundesplatz\"].stationId.values[0]\n",
    "# Define the URL including the stationId argument\n",
    "url = f\"https://smart-urban-heat-map.ch/api/1.0/timeseries?stationId={stationId}\"\n",
    "\n",
    "# Define the headers to request CSV data as a python dictionary\n",
    "headers = {\n",
    "    \"Accept\": \"text/csv\"\n",
    "}\n",
    "\n",
    "# Make the GET request with the headers\n",
    "response = requests.get(url, headers=headers)\n",
    "\n",
    "# Get the timeseries into a data frame\n",
    "timeseries = pd.read_csv(io.StringIO(response.text), delimiter=\";\")\n",
    "\n",
    "timeseries"
   ]
  },
  {
   "cell_type": "markdown",
   "id": "74d50271",
   "metadata": {},
   "source": [
    "### Schritt 2: Daten grafisch darstellen"
   ]
  },
  {
   "cell_type": "code",
   "execution_count": null,
   "id": "e2b596a6",
   "metadata": {},
   "outputs": [],
   "source": [
    "# Use the DataFrame plot function to plot the temperature time series as a line plot with markers\n",
    "ax = timeseries.plot(x='dateObserved', y='temperature', figsize=(10,6), marker=None, linestyle='-')\n",
    "# The ax object is a matplotlib axis object which we can use to further customize the plot\n",
    "\n",
    "# Add a title\n",
    "ax.set_title('Bundesplatz')\n",
    "\n",
    "# Add labels for the x and y axes\n",
    "ax.set_xlabel('Zeit')\n",
    "ax.set_ylabel('Temperatur (°C)')\n",
    "\n",
    "# Shift every second x-label for better readability\n",
    "for i, label in enumerate(ax.get_xticklabels()):\n",
    "    if i % 2 == 0:  # Check if it's an odd tick\n",
    "        label.set_y(-0.04)"
   ]
  },
  {
   "cell_type": "markdown",
   "id": "e0eb9517",
   "metadata": {},
   "source": [
    "### Schritt 3: Daten von mehreren Stationen anzeigen\n",
    "Zuerst legen wir den Zeitraum fest:"
   ]
  },
  {
   "cell_type": "code",
   "execution_count": null,
   "id": "6fe2e273",
   "metadata": {},
   "outputs": [],
   "source": [
    "startTime = \"2023-09-28T00:00:00Z\" # 28.09.23 00:00 ; Z means UTC time\n",
    "endTime = \"2023-09-30T23:00:00Z\" # 31.09.23 23:00"
   ]
  },
  {
   "cell_type": "markdown",
   "id": "4a9ef707",
   "metadata": {},
   "source": [
    "Jetzt lesen wir die Daten:"
   ]
  },
  {
   "cell_type": "code",
   "execution_count": null,
   "id": "79e4bf9f",
   "metadata": {},
   "outputs": [],
   "source": [
    "import matplotlib.pyplot as plt\n",
    "\n",
    "# Define function to read the data for a specific statio and a specific time range.\n",
    "# Returns the data as a Pandas dataframe\n",
    "def getData(stationName, startTime, endTime):\n",
    "    #Define the headers to request CSV data as a python dictionary\n",
    "    headers = {\n",
    "        \"Accept\": \"text/csv\"\n",
    "    }\n",
    "\n",
    "    # Read the data\n",
    "    stationId = stations[stations[\"name\"] == stationName].stationId.values[0]\n",
    "    # Define the URL including the stationId argument\n",
    "    url = f\"https://smart-urban-heat-map.ch/api/1.0/timeseries?stationId={stationId}&timeFrom={startTime}&timeTo={endTime}\"\n",
    "\n",
    "    # Make the GET request with the headers\n",
    "    response = requests.get(url, headers=headers)\n",
    "    return pd.read_csv(io.StringIO(response.text), delimiter=\";\")\n",
    "\n",
    "# Read the data for the 3 stations:\n",
    "timeseries1 = getData(\"Bundesplatz\", startTime, endTime)\n",
    "timeseries2 = getData(\"Marktplatz Lyss\", startTime, endTime)\n",
    "timeseries3 = getData(\"Sigriswil\", startTime, endTime)\n",
    "\n",
    "# Now plot the data\n",
    "plt.figure(figsize=(10, 6))\n",
    "        \n",
    "        \n",
    "# Use the DataFrame plot function to plot the temperature time series as a line plot with markers\n",
    "timeseries1.plot(x='dateObserved', y='temperature', label=\"Bundesplatz\", marker=None, color='blue', linestyle='-', ax=plt.gca())\n",
    "timeseries2.plot(x='dateObserved', y='temperature', label=\"Marktplatz Lyss\", marker=None, color='green', linestyle='-', ax=plt.gca())\n",
    "timeseries3.plot(x='dateObserved', y='temperature', label=\"Sigriswil\", marker=None, color='red', linestyle='-', ax=plt.gca())\n",
    "\n",
    "plt.title('Temperaturverlauf')\n",
    "plt.xlabel('Zeit')\n",
    "plt.ylabel('Temperatur (°C)')\n",
    "\n",
    "\n",
    "\n"
   ]
  },
  {
   "cell_type": "code",
   "execution_count": null,
   "id": "547a1659",
   "metadata": {},
   "outputs": [],
   "source": []
  }
 ],
 "metadata": {
  "kernelspec": {
   "display_name": "Python 3 (ipykernel)",
   "language": "python",
   "name": "python3"
  },
  "language_info": {
   "codemirror_mode": {
    "name": "ipython",
    "version": 3
   },
   "file_extension": ".py",
   "mimetype": "text/x-python",
   "name": "python",
   "nbconvert_exporter": "python",
   "pygments_lexer": "ipython3",
   "version": "3.11.5"
  }
 },
 "nbformat": 4,
 "nbformat_minor": 5
}
